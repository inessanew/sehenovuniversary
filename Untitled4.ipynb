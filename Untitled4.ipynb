{
  "nbformat": 4,
  "nbformat_minor": 0,
  "metadata": {
    "colab": {
      "provenance": [],
      "authorship_tag": "ABX9TyNOM7vjAPVI4PsRM5Gmsu71",
      "include_colab_link": true
    },
    "kernelspec": {
      "name": "python3",
      "display_name": "Python 3"
    },
    "language_info": {
      "name": "python"
    }
  },
  "cells": [
    {
      "cell_type": "markdown",
      "metadata": {
        "id": "view-in-github",
        "colab_type": "text"
      },
      "source": [
        "<a href=\"https://colab.research.google.com/github/inessanew/sehenovuniversary/blob/main/Untitled4.ipynb\" target=\"_parent\"><img src=\"https://colab.research.google.com/assets/colab-badge.svg\" alt=\"Open In Colab\"/></a>"
      ]
    },
    {
      "cell_type": "code",
      "execution_count": null,
      "metadata": {
        "colab": {
          "base_uri": "https://localhost:8080/"
        },
        "id": "sI45LhyrqNGA",
        "outputId": "1a7a59f9-0ca0-4a1f-ac09-b111692d1168"
      },
      "outputs": [
        {
          "output_type": "stream",
          "name": "stdout",
          "text": [
            "Hello, World\n"
          ]
        }
      ],
      "source": [
        "print ('Hello, World')"
      ]
    },
    {
      "cell_type": "code",
      "source": [
        "print ('4 8 15 16 23 42 C')"
      ],
      "metadata": {
        "colab": {
          "base_uri": "https://localhost:8080/"
        },
        "id": "mCXRbiLbrDI0",
        "outputId": "6b471a8d-2adb-4662-fd3f-040033b74801"
      },
      "execution_count": null,
      "outputs": [
        {
          "output_type": "stream",
          "name": "stdout",
          "text": [
            "4 8 15 16 23 42 C\n"
          ]
        }
      ]
    },
    {
      "cell_type": "code",
      "source": [],
      "metadata": {
        "colab": {
          "base_uri": "https://localhost:8080/"
        },
        "id": "aRjcAWFSrsBp",
        "outputId": "3318eb3e-d64a-44d7-be1c-3a659448417f"
      },
      "execution_count": null,
      "outputs": [
        {
          "output_type": "stream",
          "name": "stdout",
          "text": [
            "День 1: 1 пользователь\n",
            "День 2: 2 пользователей\n",
            "День 3: 3 пользователей\n",
            "День 4: 4 пользователей\n",
            "День 5: 5 пользователей\n",
            "День 6: 6 пользователей\n",
            "День 7: 7 пользователей\n"
          ]
        }
      ]
    },
    {
      "cell_type": "code",
      "source": [
        "print ('Отчёт о доходах')\n",
        "print ('1 квартал: 1200000 руб.')\n",
        "print ('2 квартал: 1350000 руб.')\n",
        "print ('3 квартал: 1280000 руб.')\n",
        "print ('4 квартал: 1420000 руб.')"
      ],
      "metadata": {
        "colab": {
          "base_uri": "https://localhost:8080/"
        },
        "id": "XUWCMhwLsznc",
        "outputId": "64a0a565-6f40-4cf5-95b5-3cfb6f1d6620"
      },
      "execution_count": null,
      "outputs": [
        {
          "output_type": "stream",
          "name": "stdout",
          "text": [
            "Отчёт о доходах\n",
            "1 квартал: 1200000 руб.\n",
            "2 квартал: 1350000 руб.\n",
            "3 квартал: 1280000 руб.\n",
            "4 квартал: 1420000 руб.\n"
          ]
        }
      ]
    },
    {
      "cell_type": "code",
      "source": [
        "name_new = (\"Влад\")\n",
        "print(\"Добро пожаловать в команду,\", name_new)"
      ],
      "metadata": {
        "colab": {
          "base_uri": "https://localhost:8080/"
        },
        "id": "p7aAfI2luYD-",
        "outputId": "3cbf354f-97cf-4e0d-ea63-e28842d2af9d"
      },
      "execution_count": null,
      "outputs": [
        {
          "output_type": "stream",
          "name": "stdout",
          "text": [
            "Добро пожаловать в команду, Влад\n"
          ]
        }
      ]
    },
    {
      "cell_type": "markdown",
      "source": [
        "Задание 6"
      ],
      "metadata": {
        "id": "UW5QxLagxz2P"
      }
    },
    {
      "cell_type": "code",
      "source": [
        "company = \"Praktika\"\n",
        "print(company, \"— лидер рынка!\")"
      ],
      "metadata": {
        "colab": {
          "base_uri": "https://localhost:8080/"
        },
        "id": "2Ou-NQW9xr45",
        "outputId": "958cbcf4-e0e6-4f94-b642-e65914839956"
      },
      "execution_count": null,
      "outputs": [
        {
          "output_type": "stream",
          "name": "stdout",
          "text": [
            "Praktika — лидер рынка!\n"
          ]
        }
      ]
    },
    {
      "cell_type": "markdown",
      "source": [
        "Задание 7"
      ],
      "metadata": {
        "id": "1jZgSBE6y19d"
      }
    },
    {
      "cell_type": "code",
      "source": [
        "name_sales = input ()\n",
        "N_k = input\n",
        "N_s = input\n",
        "name_sales = \"Sales Q1\"\n",
        "N_k = 1000\n",
        "N_s = 8\n",
        "print(name_sales)\n",
        "print(N_k)\n",
        "print(N_s)"
      ],
      "metadata": {
        "colab": {
          "base_uri": "https://localhost:8080/"
        },
        "id": "OPu7m7Ufy4Jd",
        "outputId": "713b7eed-d260-4d05-a9a2-104bab3dc698"
      },
      "execution_count": null,
      "outputs": [
        {
          "output_type": "stream",
          "name": "stdout",
          "text": [
            "\n",
            "Sales Q1\n",
            "1000\n",
            "8\n"
          ]
        }
      ]
    },
    {
      "cell_type": "markdown",
      "source": [],
      "metadata": {
        "id": "FJ_jk9TrxzMX"
      }
    },
    {
      "cell_type": "markdown",
      "source": [
        "Задание 8"
      ],
      "metadata": {
        "id": "iim2wBqj3pm4"
      }
    },
    {
      "cell_type": "code",
      "source": [
        "File_1 = input ()\n",
        "File_2 = input\n",
        "File_3 = input\n",
        "File_1 = \"Продажи за январь\"\n",
        "File_2 = \"Продажи за февраль\"\n",
        "File_3 = \"Продажи за март\"\n",
        "print (File_3)\n",
        "print (File_2)\n",
        "print (File_1)"
      ],
      "metadata": {
        "colab": {
          "base_uri": "https://localhost:8080/"
        },
        "id": "FZP7u2u_3tvf",
        "outputId": "892d5715-a72e-403e-9c6e-d9d4462d8bee"
      },
      "execution_count": null,
      "outputs": [
        {
          "output_type": "stream",
          "name": "stdout",
          "text": [
            "\n",
            "Продажи за март\n",
            "Продажи за февраль\n",
            "Продажи за январь\n"
          ]
        }
      ]
    },
    {
      "cell_type": "markdown",
      "source": [
        "Задание 9"
      ],
      "metadata": {
        "id": "zmU_ZoDH7gaj"
      }
    },
    {
      "cell_type": "code",
      "source": [
        "base_price = 100\n",
        "growth_persent = 20\n",
        "new_price = base_price * (1 + growth_persent / 100)\n",
        "delta = new_price - base_price\n",
        "print ('new_price=', new_price)\n",
        "print ('delta=', delta)"
      ],
      "metadata": {
        "colab": {
          "base_uri": "https://localhost:8080/"
        },
        "id": "-knLzm8V7kw1",
        "outputId": "0a750cfa-b5c9-46cd-9dcf-96338bd2649f"
      },
      "execution_count": null,
      "outputs": [
        {
          "output_type": "stream",
          "name": "stdout",
          "text": [
            "new_price= 120.0\n",
            "delta= 20.0\n"
          ]
        }
      ]
    },
    {
      "cell_type": "markdown",
      "source": [
        "Задание 10\n"
      ],
      "metadata": {
        "id": "nJFrSIwk-Osg"
      }
    },
    {
      "cell_type": "markdown",
      "source": [],
      "metadata": {
        "id": "P0j8jq4D6xVW"
      }
    },
    {
      "cell_type": "code",
      "source": [
        "print(\"Северный\", end=\"***\")\n",
        "print(\"Центральный\", end=\"***\")\n",
        "print(\"Южный\")"
      ],
      "metadata": {
        "colab": {
          "base_uri": "https://localhost:8080/"
        },
        "id": "vqz8MES9-ZIh",
        "outputId": "eaa941fd-6e6f-4534-c206-1486d976d3eb"
      },
      "execution_count": null,
      "outputs": [
        {
          "output_type": "stream",
          "name": "stdout",
          "text": [
            "Северный***Центральный***Южный\n"
          ]
        }
      ]
    },
    {
      "cell_type": "markdown",
      "source": [
        "Задание 11"
      ],
      "metadata": {
        "id": "n0N0jgxQ_6dJ"
      }
    },
    {
      "cell_type": "code",
      "source": [
        "name_new = input()\n",
        "name_new = \"Влад\"\n",
        "print(\"Подключение установлено. Добро пожаловать,\", end=\" \")\n",
        "print(name_new)"
      ],
      "metadata": {
        "colab": {
          "base_uri": "https://localhost:8080/"
        },
        "id": "9BDGSRvS_-eB",
        "outputId": "37bc29a5-2e9a-4453-be6a-da7d11607238"
      },
      "execution_count": null,
      "outputs": [
        {
          "output_type": "stream",
          "name": "stdout",
          "text": [
            "\n",
            "Подключение установлено. Добро пожаловать, Влад\n"
          ]
        }
      ]
    },
    {
      "cell_type": "markdown",
      "source": [
        "Задание 12"
      ],
      "metadata": {
        "id": "TSaDOlYbBsqB"
      }
    },
    {
      "cell_type": "markdown",
      "source": [],
      "metadata": {
        "id": "COS4lxtm5RrS"
      }
    },
    {
      "cell_type": "code",
      "source": [
        "r = input()\n",
        "produkt_name_1 = input()\n",
        "produkt_name_2 = input()\n",
        "produkt_name_3 = input()\n",
        "r = \" | \"\n",
        "print(produkt_name_1, produkt_name_2, produkt_name_3, sep=r)"
      ],
      "metadata": {
        "colab": {
          "base_uri": "https://localhost:8080/"
        },
        "id": "0Pz7msX3B74j",
        "outputId": "a94a77f1-04cd-45a7-f987-d945fae4a325"
      },
      "execution_count": null,
      "outputs": [
        {
          "output_type": "stream",
          "name": "stdout",
          "text": [
            "\n",
            "Молоко\n",
            "Хлеб\n",
            "Сыр\n",
            "Молоко | Хлеб | Сыр\n"
          ]
        }
      ]
    },
    {
      "cell_type": "markdown",
      "source": [
        "Задание 13"
      ],
      "metadata": {
        "id": "82mpJrPZG-BU"
      }
    },
    {
      "cell_type": "code",
      "source": [
        "value_str = input()\n",
        "value_str = \"42.7\"\n",
        "a=float(value_str)\n",
        "print(\"integer_part=\", int(a))"
      ],
      "metadata": {
        "colab": {
          "base_uri": "https://localhost:8080/"
        },
        "id": "L8QjxuESHBas",
        "outputId": "0e562610-1bd6-46bc-cf11-a28cb3d4bc04"
      },
      "execution_count": null,
      "outputs": [
        {
          "output_type": "stream",
          "name": "stdout",
          "text": [
            "\n",
            "integer_part= 42\n"
          ]
        }
      ]
    },
    {
      "cell_type": "markdown",
      "source": [
        "Задание 14"
      ],
      "metadata": {
        "id": "Ho6PGDkNMo-_"
      }
    },
    {
      "cell_type": "code",
      "source": [
        "orders_yesterday = int(input())\n",
        "plan = int(input())\n",
        "# orders_yesterday = 10\n",
        "# plan = 20\n",
        "a = abs(plan-orders_yesterday)\n",
        "print(\"Абсолютное отклонение от плана равняется\", a)"
      ],
      "metadata": {
        "colab": {
          "base_uri": "https://localhost:8080/"
        },
        "id": "m4fe_xsaGlFT",
        "outputId": "13cc3c5f-16a4-4242-fed0-df156680253a"
      },
      "execution_count": null,
      "outputs": [
        {
          "output_type": "stream",
          "name": "stdout",
          "text": [
            "20\n",
            "10\n",
            "Абсолютное отклонение от плана равняется 10\n"
          ]
        }
      ]
    },
    {
      "cell_type": "markdown",
      "source": [
        "Задание 15"
      ],
      "metadata": {
        "id": "xifHPk_LO3Wh"
      }
    },
    {
      "cell_type": "code",
      "source": [],
      "metadata": {
        "id": "RC0NiFZkO7wp"
      },
      "execution_count": null,
      "outputs": []
    }
  ]
}